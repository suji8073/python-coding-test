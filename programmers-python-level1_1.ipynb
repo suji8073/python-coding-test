{
 "cells": [
  {
   "cell_type": "markdown",
   "id": "2483f6ce",
   "metadata": {},
   "source": [
    "# 1. 시저암호"
   ]
  },
  {
   "cell_type": "markdown",
   "id": "b9f24ba3",
   "metadata": {},
   "source": [
    "어떤 문장의 각 알파벳을 일정한 거리만큼 밀어서 다른 알파벳으로 바꾸는 암호화 방식을 시저 암호라고 합니다. 예를 들어 \"AB\"는 1만큼 밀면 \"BC\"가 되고, 3만큼 밀면 \"DE\"가 됩니다. \"z\"는 1만큼 밀면 \"a\"가 됩니다. 문자열 s와 거리 n을 입력받아 s를 n만큼 민 암호문을 만드는 함수, solution을 완성해 보세요."
   ]
  },
  {
   "cell_type": "code",
   "execution_count": 239,
   "id": "a5ae68cc",
   "metadata": {},
   "outputs": [],
   "source": [
    "def solution(s, n):\n",
    "    answer = ''\n",
    "    list_ = list(s)\n",
    "\n",
    "\n",
    "    for i in range(len(list_)):\n",
    "        num = list_[i]\n",
    "\n",
    "        if num == \" \":\n",
    "            array = ' '\n",
    "            \n",
    "        elif (ord(num) <= 90 and ord(num) >=65): # 대문자\n",
    "            if (ord(num)+ n > 90):\n",
    "                array = chr(ord(num)+n-26)\n",
    "            else:\n",
    "                array = chr(ord(num) + n)\n",
    "            \n",
    "        elif (ord(num) <= 122 and ord(num)>=97): # 소문자\n",
    "            if (ord(num)+ n > 122):\n",
    "                array = chr(ord(num)+n-26)\n",
    "            else:\n",
    "                array = chr(ord(num) + n)\n",
    "            \n",
    "        answer = answer + array\n",
    "\n",
    "    return answer"
   ]
  },
  {
   "cell_type": "markdown",
   "id": "de852df8",
   "metadata": {},
   "source": [
    "# 2. 가운데 글자 가져오기"
   ]
  },
  {
   "cell_type": "markdown",
   "id": "b595cbcb",
   "metadata": {},
   "source": [
    "단어 s의 가운데 글자를 반환하는 함수, solution을 만들어 보세요. 단어의 길이가 짝수라면 가운데 두글자를 반환하면 됩니다."
   ]
  },
  {
   "cell_type": "code",
   "execution_count": 240,
   "id": "192d0974",
   "metadata": {},
   "outputs": [],
   "source": [
    "def solution(s):\n",
    "    answer = ''\n",
    "    check = 0\n",
    "    if (len(s) % 2 == 0):\n",
    "        check = len(s) // 2\n",
    "        answer = answer + s[check - 1:check + 1]\n",
    "\n",
    "    else:\n",
    "        check = len(s) // 2\n",
    "        answer = answer + s[check]\n",
    "\n",
    "\n",
    "    return answer"
   ]
  },
  {
   "cell_type": "markdown",
   "id": "4964d4aa",
   "metadata": {},
   "source": [
    "# 3. k번째 수"
   ]
  },
  {
   "cell_type": "markdown",
   "id": "d8e6a2aa",
   "metadata": {},
   "source": [
    "배열 array의 i번째 숫자부터 j번째 숫자까지 자르고 정렬했을 때, k번째에 있는 수를 구하려 합니다.\n",
    "\n",
    "예를 들어 array가 [1, 5, 2, 6, 3, 7, 4], i = 2, j = 5, k = 3이라면\n",
    "\n",
    "array의 2번째부터 5번째까지 자르면 [5, 2, 6, 3]입니다.\n",
    "1에서 나온 배열을 정렬하면 [2, 3, 5, 6]입니다.\n",
    "2에서 나온 배열의 3번째 숫자는 5입니다.\n",
    "배열 array, [i, j, k]를 원소로 가진 2차원 배열 commands가 매개변수로 주어질 때, commands의 모든 원소에 대해 앞서 설명한 연산을 적용했을 때 나온 결과를 배열에 담아 return 하도록 solution 함수를 작성해주세요."
   ]
  },
  {
   "cell_type": "code",
   "execution_count": 289,
   "id": "801bacde",
   "metadata": {},
   "outputs": [],
   "source": [
    "def solution(array, commands):\n",
    "    answer = []\n",
    "    for i in range(len(commands)):\n",
    "        start = commands[i][0]\n",
    "        end = commands[i][1]\n",
    "        point = commands[i][2]\n",
    "        slice_array = array[start-1: end]\n",
    "        slice_array = sorted(slice_array)\n",
    "\n",
    "        if (len(slice_array) == 1):\n",
    "            answer.append(slice_array[0])\n",
    "            \n",
    "        else: \n",
    "            answer.append(slice_array[point-1])\n",
    "            \n",
    "    return answer"
   ]
  },
  {
   "cell_type": "markdown",
   "id": "e9c72d3a",
   "metadata": {},
   "source": [
    "# 4. 두 정수 사이의 합"
   ]
  },
  {
   "cell_type": "markdown",
   "id": "7c7cda91",
   "metadata": {},
   "source": [
    "두 정수 a, b가 주어졌을 때 a와 b 사이에 속한 모든 정수의 합을 리턴하는 함수, solution을 완성하세요.\n",
    "예를 들어 a = 3, b = 5인 경우, 3 + 4 + 5 = 12이므로 12를 리턴합니다."
   ]
  },
  {
   "cell_type": "code",
   "execution_count": 1,
   "id": "2fad55be",
   "metadata": {},
   "outputs": [],
   "source": [
    "def solution(a, b):\n",
    "    answer = 0\n",
    "    if (a <= b):\n",
    "        for i in range(b - a + 1):\n",
    "            answer = answer + a + i\n",
    "    else:\n",
    "        for i in range(a - b + 1):\n",
    "            answer = answer + b + i\n",
    "    return answer"
   ]
  },
  {
   "cell_type": "markdown",
   "id": "32759247",
   "metadata": {},
   "source": [
    "# 5. 수박수박수박수박수박수?"
   ]
  },
  {
   "cell_type": "markdown",
   "id": "b9c6b8b8",
   "metadata": {},
   "source": [
    "길이가 n이고, \"수박수박수박수....\"와 같은 패턴을 유지하는 문자열을 리턴하는 함수, solution을 완성하세요. 예를들어 n이 4이면 \"수박수박\"을 리턴하고 3이라면 \"수박수\"를 리턴하면 됩니다."
   ]
  },
  {
   "cell_type": "code",
   "execution_count": 2,
   "id": "1733ea4d",
   "metadata": {},
   "outputs": [],
   "source": [
    "def solution(n):\n",
    "    answer = ''\n",
    "    for i in range(n):\n",
    "        if (i % 2 ==0):\n",
    "            answer = answer + \"수\"\n",
    "        else:\n",
    "            answer = answer + \"박\"\n",
    "    return answer"
   ]
  },
  {
   "cell_type": "markdown",
   "id": "27b574a5",
   "metadata": {},
   "source": [
    "# 6. 평균 구하기"
   ]
  },
  {
   "cell_type": "markdown",
   "id": "180ccaef",
   "metadata": {},
   "source": [
    "정수를 담고 있는 배열 arr의 평균값을 return하는 함수, solution을 완성해보세요."
   ]
  },
  {
   "cell_type": "code",
   "execution_count": 5,
   "id": "d374d609",
   "metadata": {},
   "outputs": [],
   "source": [
    "def solution(arr):\n",
    "    answer = 0\n",
    "    num = list(arr)\n",
    "    for i in range(len(num)):\n",
    "        answer += num[i]\n",
    "    answer /=len(num)\n",
    "    \n",
    "    return answer"
   ]
  },
  {
   "cell_type": "markdown",
   "id": "5ac7dbed",
   "metadata": {},
   "source": [
    "# 7. 서울에서 김서방 찾기"
   ]
  },
  {
   "cell_type": "markdown",
   "id": "fd5f01bb",
   "metadata": {},
   "source": [
    "String형 배열 seoul의 element중 \"Kim\"의 위치 x를 찾아, \"김서방은 x에 있다\"는 String을 반환하는 함수, solution을 완성하세요. seoul에 \"Kim\"은 오직 한 번만 나타나며 잘못된 값이 입력되는 경우는 없습니다."
   ]
  },
  {
   "cell_type": "code",
   "execution_count": 52,
   "id": "98b30158",
   "metadata": {},
   "outputs": [],
   "source": [
    "def solution(seoul):\n",
    "    answer = ''\n",
    "    \n",
    "    for i in range(len(seoul)):\n",
    "        if (seoul[i]==\"Kim\"):\n",
    "            answer = \"김서방은 \"+str(i)+\"에 있다\"\n",
    "            \n",
    "    return answer"
   ]
  },
  {
   "cell_type": "markdown",
   "id": "0c19a03c",
   "metadata": {},
   "source": [
    "# 8. 모의고사"
   ]
  },
  {
   "cell_type": "markdown",
   "id": "4bce791d",
   "metadata": {},
   "source": [
    "수포자는 수학을 포기한 사람의 준말입니다. 수포자 삼인방은 모의고사에 수학 문제를 전부 찍으려 합니다. 수포자는 1번 문제부터 마지막 문제까지 다음과 같이 찍습니다.\n",
    "\n",
    "1번 수포자가 찍는 방식: 1, 2, 3, 4, 5, 1, 2, 3, 4, 5, ...\n",
    "2번 수포자가 찍는 방식: 2, 1, 2, 3, 2, 4, 2, 5, 2, 1, 2, 3, 2, 4, 2, 5, ...\n",
    "3번 수포자가 찍는 방식: 3, 3, 1, 1, 2, 2, 4, 4, 5, 5, 3, 3, 1, 1, 2, 2, 4, 4, 5, 5, ...\n",
    "\n",
    "1번 문제부터 마지막 문제까지의 정답이 순서대로 들은 배열 answers가 주어졌을 때, 가장 많은 문제를 맞힌 사람이 누구인지 배열에 담아 return 하도록 solution 함수를 작성해주세요."
   ]
  },
  {
   "cell_type": "code",
   "execution_count": 19,
   "id": "a0f26272",
   "metadata": {},
   "outputs": [],
   "source": [
    "# 정답이지만, 정확도 떨어짐\n",
    "def solution(answers):\n",
    "    answer = []\n",
    "    person_1 = [1, 2, 3, 4, 5]\n",
    "    person_2 = [2, 1, 2, 3, 2, 4, 2, 5]\n",
    "    person_3 = [3, 3, 1, 1, 2, 2, 4, 4, 5, 5]\n",
    "    answer_1 = answer_2 = answer_3 = 0\n",
    "    \n",
    "    for i in range(len(answers)):\n",
    "        if (person_1[i%len(person_1)] == answers[i]):\n",
    "            answer_1 += 1\n",
    "        if (person_2[i%len(person_2)] == answers[i]):\n",
    "            answer_2 += 1\n",
    "        if (person_3[i%len(person_3)] == answers[i]):\n",
    "            answer_3 += 1\n",
    "\n",
    "    count = {1: answer_1, 2: answer_2, 3: answer_3}\n",
    "    dict_count= sorted(count.items(), reverse=False)\n",
    "    \n",
    "    if (dict_count[0][1] > dict_count[1][1]):\n",
    "        answer.append(dict_count[0][0])\n",
    "        return answer\n",
    "\n",
    "    if (dict_count[1][1] > dict_count[2][1]):\n",
    "        answer.append(dict_count[1][0])\n",
    "        return answer\n",
    "    \n",
    "    answer = list(count.keys())\n",
    "        \n",
    "\n",
    "    \n",
    "    return answer"
   ]
  },
  {
   "cell_type": "code",
   "execution_count": null,
   "id": "f55ce34f",
   "metadata": {},
   "outputs": [],
   "source": [
    "def solution(answers):\n",
    "    answer = []\n",
    "    answer = []\n",
    "    person_1 = [1, 2, 3, 4, 5]\n",
    "    person_2 = [2, 1, 2, 3, 2, 4, 2, 5]\n",
    "    person_3 = [3, 3, 1, 1, 2, 2, 4, 4, 5, 5]\n",
    "    count = [0, 0, 0]\n",
    "\n",
    "    for i in range(len(answers)):\n",
    "        if (person_1[i%len(person_1)] == answers[i]): count[0] +=1\n",
    "        if (person_2[i%len(person_2)] == answers[i]):count[1] += 1\n",
    "        if (person_3[i%len(person_3)] == answers[i]):count[2] += 1\n",
    "            \n",
    "    for i in range(len(count)):\n",
    "        if(count[i] == max(count)):\n",
    "            answer.append(i+1)\n",
    "\n",
    "\n",
    "    \n",
    "    return answer"
   ]
  },
  {
   "cell_type": "markdown",
   "id": "e093b2d3",
   "metadata": {},
   "source": [
    "# 9. 문자열 내림차순으로 배치하기"
   ]
  },
  {
   "cell_type": "markdown",
   "id": "808f87b9",
   "metadata": {},
   "source": [
    "문자열 s에 나타나는 문자를 큰것부터 작은 순으로 정렬해 새로운 문자열을 리턴하는 함수, solution을 완성해주세요.\n",
    "s는 영문 대소문자로만 구성되어 있으며, 대문자는 소문자보다 작은 것으로 간주합니다."
   ]
  },
  {
   "cell_type": "code",
   "execution_count": 80,
   "id": "5d26acb9",
   "metadata": {},
   "outputs": [],
   "source": [
    "def solution(s):\n",
    "    answer = ''\n",
    "    list_ = list(s)\n",
    "    s_num = []\n",
    "    for i in range(len(list_)):\n",
    "        num = list_[i]\n",
    "        s_num.append(ord(num))\n",
    "    check= sorted(s_num, reverse=True)\n",
    "    for i in range(len(check)):\n",
    "        answer += (chr(check[i]))\n",
    "\n",
    "    return answer"
   ]
  },
  {
   "cell_type": "code",
   "execution_count": 82,
   "id": "aaab7c38",
   "metadata": {},
   "outputs": [],
   "source": [
    "def solution(s):\n",
    "    return ''.join(sorted(s, reverse=True))"
   ]
  },
  {
   "cell_type": "markdown",
   "id": "bc3f3a54",
   "metadata": {},
   "source": [
    "# 10. 2016년"
   ]
  },
  {
   "cell_type": "markdown",
   "id": "625c0602",
   "metadata": {},
   "source": [
    "2016년 1월 1일은 금요일입니다. 2016년 a월 b일은 무슨 요일일까요? 두 수 a ,b를 입력받아 2016년 a월 b일이 무슨 요일인지 리턴하는 함수, solution을 완성하세요. 요일의 이름은 일요일부터 토요일까지 각각 SUN,MON,TUE,WED,THU,FRI,SAT\n",
    "\n",
    "입니다. 예를 들어 a=5, b=24라면 5월 24일은 화요일이므로 문자열 \"TUE\"를 반환하세요."
   ]
  },
  {
   "cell_type": "code",
   "execution_count": 126,
   "id": "b5621198",
   "metadata": {},
   "outputs": [],
   "source": [
    "def solution(a, b):\n",
    "    answer = ''\n",
    "    day = ['FRI','SAT','SUN','MON','TUE','WED','THU']\n",
    "    if (a==1):\n",
    "        answer = day[(b-1)%7]\n",
    "    elif (a == 4 or a==6 or a==8):\n",
    "        num = (5*(a//2) -3)%7\n",
    "        print(num)\n",
    "        answer = day[(num-1+b)%7]\n",
    "    elif (a==3 or a==5 or a==7):\n",
    "        num = (5*(a//2) -1)%7\n",
    "        print(num)\n",
    "        answer = day[(num-1+b)%7]\n",
    "    elif (a==9 or a==11): \n",
    "        num = (5*(a//2) )%7\n",
    "        print(num)\n",
    "        answer = day[(num-1+b)%7]\n",
    "    elif (a==10 or a==12): \n",
    "        num = (5*(a//2) - 3)%7\n",
    "        print(num)\n",
    "        answer = day[(num-1+b)%7]\n",
    "    else:\n",
    "        answer = day[(b+2)%7]\n",
    "    return answer"
   ]
  }
 ],
 "metadata": {
  "kernelspec": {
   "display_name": "Python 3 (ipykernel)",
   "language": "python",
   "name": "python3"
  },
  "language_info": {
   "codemirror_mode": {
    "name": "ipython",
    "version": 3
   },
   "file_extension": ".py",
   "mimetype": "text/x-python",
   "name": "python",
   "nbconvert_exporter": "python",
   "pygments_lexer": "ipython3",
   "version": "3.9.6"
  }
 },
 "nbformat": 4,
 "nbformat_minor": 5
}
